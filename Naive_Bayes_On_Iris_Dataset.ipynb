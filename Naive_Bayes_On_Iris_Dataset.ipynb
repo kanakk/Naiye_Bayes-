{
 "cells": [
  {
   "cell_type": "code",
   "execution_count": 19,
   "metadata": {},
   "outputs": [],
   "source": [
    "import numpy as np\n",
    "import matplotlib.pyplot as plt\n",
    "import seaborn as sns\n",
    "sns.set()\n",
    "from sklearn.datasets import fetch_20newsgroups\n",
    "import pandas as pd\n",
    "from sklearn.model_selection import train_test_split\n"
   ]
  },
  {
   "cell_type": "code",
   "execution_count": 77,
   "metadata": {},
   "outputs": [
    {
     "name": "stdout",
     "output_type": "stream",
     "text": [
      "      Id  SepalLengthCm  SepalWidthCm  PetalLengthCm  PetalWidthCm\n",
      "66    67            5.6           3.0            4.5           1.5\n",
      "87    88            6.3           2.3            4.4           1.3\n",
      "93    94            5.0           2.3            3.3           1.0\n",
      "91    92            6.1           3.0            4.6           1.4\n",
      "29    30            4.8           3.4            1.9           0.2\n",
      "38    39            5.5           4.2            1.4           0.2\n",
      "78    79            6.0           2.9            4.5           1.5\n",
      "40    41            5.0           3.2            1.2           0.2\n",
      "79    80            5.7           2.6            3.5           1.0\n",
      "20    21            5.7           4.4            1.5           0.4\n",
      "10    11            5.4           3.9            1.7           0.4\n",
      "28    29            5.1           3.3            1.7           0.5\n",
      "99   100            5.7           2.8            4.1           1.3\n",
      "98    99            5.1           2.5            3.0           1.1\n",
      "72    73            6.3           2.5            4.9           1.5\n",
      "86    87            6.7           3.1            4.7           1.5\n",
      "73    74            6.1           2.8            4.7           1.2\n",
      "42    43            4.9           3.1            1.5           0.1\n",
      "84    85            5.4           3.0            4.5           1.5\n",
      "47    48            4.4           3.2            1.3           0.2\n",
      "60    61            5.0           2.0            3.5           1.0\n",
      "57    58            4.9           2.4            3.3           1.0\n",
      "65    66            6.7           3.1            4.4           1.4\n",
      "80    81            5.5           2.4            3.8           1.1\n",
      "51    52            5.1           3.8            1.6           0.2\n",
      "53    54            5.3           3.7            1.5           0.2\n",
      "11    12            4.6           3.4            1.4           0.3\n",
      "37    38            5.2           4.1            1.5           0.1\n",
      "44    45            5.1           3.4            1.5           0.2\n",
      "43    44            4.4           3.0            1.3           0.2\n",
      "..   ...            ...           ...            ...           ...\n",
      "100  101            6.3           3.3            6.0           2.5\n",
      "50    51            4.8           3.0            1.4           0.3\n",
      "18    19            4.3           3.0            1.1           0.1\n",
      "63    64            6.1           2.9            4.7           1.4\n",
      "30    31            5.0           3.0            1.6           0.2\n",
      "33    34            5.2           3.4            1.4           0.2\n",
      "81    82            5.5           2.4            3.7           1.0\n",
      "62    63            6.0           2.2            4.0           1.0\n",
      "35    36            4.8           3.1            1.6           0.2\n",
      "82    83            5.8           2.7            3.9           1.2\n",
      "90    91            5.5           2.6            4.4           1.2\n",
      "96    97            5.7           2.9            4.2           1.3\n",
      "0      1            5.1           3.5            1.4           0.2\n",
      "74    75            6.4           2.9            4.3           1.3\n",
      "102  103            7.1           3.0            5.9           2.1\n",
      "34    35            4.7           3.2            1.6           0.2\n",
      "89    90            5.5           2.5            4.0           1.3\n",
      "13    14            4.4           2.9            1.4           0.2\n",
      "5      6            6.4           3.2            4.5           1.5\n",
      "52    53            4.6           3.2            1.4           0.2\n",
      "49    50            5.1           3.8            1.9           0.4\n",
      "22    23            5.1           3.5            1.4           0.3\n",
      "48    49            5.0           3.5            1.6           0.6\n",
      "76    77            6.8           2.8            4.8           1.4\n",
      "67    68            5.8           2.7            4.1           1.0\n",
      "3      4            4.6           3.1            1.5           0.2\n",
      "2      3            4.7           3.2            1.3           0.2\n",
      "6      7            6.9           3.1            4.9           1.5\n",
      "27    28            4.6           3.6            1.0           0.2\n",
      "75    76            6.6           3.0            4.4           1.4\n",
      "\n",
      "[72 rows x 5 columns]\n"
     ]
    }
   ],
   "source": [
    "#train_dataframe = pd.read_csv(r\"Iris_train.csv\")\n",
    "\n",
    "#test_dataframe = pd.read_csv(r\"iris_test.csv\")#\n",
    "\n",
    "complete_dataframe = pd.read_csv(r\"Iris.csv\")\n",
    "\n",
    "X = complete_dataframe[['Id','SepalLengthCm','SepalWidthCm','PetalLengthCm','PetalWidthCm']]\n",
    "Y = complete_dataframe[['Species']]\n",
    "\n",
    "X_train, X_test, y_train, y_test = train_test_split(X,Y,test_size=0.30, random_state=12)\n",
    "print(X_train)\n",
    "#print(X_test)\n",
    "#print(y_train)\n",
    "#print(y_test)\n",
    "\n",
    "export = X_test.to_csv(r'test_dataframe.csv', index = None, header=True)\n",
    "export2 = X_train.to_csv(r'train_dataframe.csv',index = None, header=True)\n",
    "export3 = y_train.to_csv(r'train_y_dataframe.csv',index = None, header=True)\n",
    "export4 = y_test.to_csv(r'test_y_dataframe.csv',index = None, header=True)"
   ]
  },
  {
   "cell_type": "code",
   "execution_count": 78,
   "metadata": {},
   "outputs": [
    {
     "name": "stderr",
     "output_type": "stream",
     "text": [
      "/home/arishti/anaconda3/lib/python2.7/site-packages/sklearn/utils/validation.py:761: DataConversionWarning: A column-vector y was passed when a 1d array was expected. Please change the shape of y to (n_samples, ), for example using ravel().\n",
      "  y = column_or_1d(y, warn=True)\n"
     ]
    },
    {
     "data": {
      "text/plain": [
       "MultinomialNB(alpha=1.0, class_prior=None, fit_prior=True)"
      ]
     },
     "execution_count": 78,
     "metadata": {},
     "output_type": "execute_result"
    }
   ],
   "source": [
    "from sklearn.naive_bayes import MultinomialNB\n",
    "clf = MultinomialNB()\n",
    "clf.fit(X_train,y_train)"
   ]
  },
  {
   "cell_type": "code",
   "execution_count": 81,
   "metadata": {},
   "outputs": [
    {
     "name": "stdout",
     "output_type": "stream",
     "text": [
      "Iris-setosa\n",
      "Iris-setosa\n",
      "Iris-versicolor\n",
      "Iris-setosa\n",
      "Iris-versicolor\n",
      "Iris-setosa\n",
      "Iris-versicolor\n",
      "Iris-setosa\n",
      "Iris-setosa\n",
      "Iris-versicolor\n",
      "Iris-setosa\n",
      "Iris-setosa\n",
      "Iris-setosa\n",
      "Iris-setosa\n",
      "Iris-setosa\n",
      "Iris-versicolor\n",
      "Iris-versicolor\n",
      "Iris-setosa\n",
      "Iris-versicolor\n",
      "Iris-setosa\n",
      "Iris-versicolor\n",
      "Iris-versicolor\n",
      "Iris-setosa\n",
      "Iris-versicolor\n",
      "Iris-setosa\n",
      "Iris-versicolor\n",
      "Iris-versicolor\n",
      "Iris-setosa\n",
      "Iris-setosa\n",
      "Iris-versicolor\n",
      "Iris-versicolor\n",
      "\n",
      "('Accuracy of the model is : ', 0.967741935483871)\n"
     ]
    }
   ],
   "source": [
    "y_pred = clf.predict(X_test)\n",
    "\n",
    "\n",
    "from sklearn.metrics import accuracy_score\n",
    "\n",
    "Accuracy_score = accuracy_score(Y_test, y_pred,normalize = True)\n",
    "\n",
    "for i in y_pred:\n",
    "    print(i)\n",
    "print(\"\")    \n",
    "print(\"Accuracy of the model is : \",Accuracy_score)    "
   ]
  },
  {
   "cell_type": "code",
   "execution_count": null,
   "metadata": {},
   "outputs": [],
   "source": []
  },
  {
   "cell_type": "code",
   "execution_count": null,
   "metadata": {},
   "outputs": [],
   "source": []
  }
 ],
 "metadata": {
  "kernelspec": {
   "display_name": "Python 2",
   "language": "python",
   "name": "python2"
  },
  "language_info": {
   "codemirror_mode": {
    "name": "ipython",
    "version": 2
   },
   "file_extension": ".py",
   "mimetype": "text/x-python",
   "name": "python",
   "nbconvert_exporter": "python",
   "pygments_lexer": "ipython2",
   "version": "2.7.16"
  }
 },
 "nbformat": 4,
 "nbformat_minor": 2
}
